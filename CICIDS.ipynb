{
  "cells": [
    {
      "cell_type": "code",
      "execution_count": null,
      "metadata": {
        "id": "b3EZ366N9XTC"
      },
      "outputs": [],
      "source": []
    },
    {
      "cell_type": "markdown",
      "metadata": {
        "papermill": {
          "duration": 0.009091,
          "end_time": "2022-01-14T07:43:00.333174",
          "exception": false,
          "start_time": "2022-01-14T07:43:00.324083",
          "status": "completed"
        },
        "tags": [],
        "id": "ZVRD-ZED9XTD"
      },
      "source": [
        "## 데이터 불러오기"
      ]
    },
    {
      "cell_type": "code",
      "execution_count": 1,
      "metadata": {
        "_cell_guid": "79c7e3d0-c299-4dcb-8224-4455121ee9b0",
        "_uuid": "d629ff2d2480ee46fbb7e2d37f6b5fab8052498a",
        "execution": {
          "iopub.execute_input": "2022-01-14T07:43:00.357075Z",
          "iopub.status.busy": "2022-01-14T07:43:00.356483Z",
          "iopub.status.idle": "2022-01-14T07:43:07.157488Z",
          "shell.execute_reply": "2022-01-14T07:43:07.157982Z",
          "shell.execute_reply.started": "2022-01-14T06:39:33.509434Z"
        },
        "papermill": {
          "duration": 6.81384,
          "end_time": "2022-01-14T07:43:07.158182",
          "exception": false,
          "start_time": "2022-01-14T07:43:00.344342",
          "status": "completed"
        },
        "tags": [],
        "id": "Ndar0ESF9XTE"
      },
      "outputs": [],
      "source": [
        "import numpy as np \n",
        "import pandas as pd\n",
        "import warnings\n",
        "from sklearn.model_selection import train_test_split\n",
        "import matplotlib.pyplot as plt\n",
        "import matplotlib.pyplot as plt\n",
        "import time\n",
        "from sklearn.metrics import accuracy_score\n",
        "\n",
        "warnings.filterwarnings('ignore')\n",
        "\n",
        "pd.set_option('display.max_columns', None)\n",
        "pd.set_option('display.max_rows', None)\n",
        "\n",
        "# 데이터 cols 설정\n",
        "cols = [' Destination Port', ' Flow Duration', ' Total Fwd Packets',\n",
        "       ' Total Backward Packets', 'Total Length of Fwd Packets',\n",
        "       ' Total Length of Bwd Packets', ' Fwd Packet Length Max',\n",
        "       ' Fwd Packet Length Min', ' Fwd Packet Length Mean',\n",
        "       ' Fwd Packet Length Std', 'Bwd Packet Length Max',\n",
        "       ' Bwd Packet Length Min', ' Bwd Packet Length Mean',\n",
        "       ' Bwd Packet Length Std', 'Flow Bytes/s', ' Flow Packets/s',\n",
        "       ' Flow IAT Mean', ' Flow IAT Std', ' Flow IAT Max', ' Flow IAT Min',\n",
        "       'Fwd IAT Total', ' Fwd IAT Mean', ' Fwd IAT Std', ' Fwd IAT Max',\n",
        "       ' Fwd IAT Min', 'Bwd IAT Total', ' Bwd IAT Mean', ' Bwd IAT Std',\n",
        "       ' Bwd IAT Max', ' Bwd IAT Min', 'Fwd PSH Flags', ' Bwd PSH Flags',\n",
        "       ' Fwd URG Flags', ' Bwd URG Flags', ' Fwd Header Length',\n",
        "       ' Bwd Header Length', 'Fwd Packets/s', ' Bwd Packets/s',\n",
        "       ' Min Packet Length', ' Max Packet Length', ' Packet Length Mean',\n",
        "       ' Packet Length Std', ' Packet Length Variance', 'FIN Flag Count',\n",
        "       ' SYN Flag Count', ' RST Flag Count', ' PSH Flag Count',\n",
        "       ' ACK Flag Count', ' URG Flag Count', ' CWE Flag Count',\n",
        "       ' ECE Flag Count', ' Down/Up Ratio', ' Average Packet Size',\n",
        "       ' Avg Fwd Segment Size', ' Avg Bwd Segment Size',\n",
        "       ' Fwd Header Length.1', 'Fwd Avg Bytes/Bulk', ' Fwd Avg Packets/Bulk',\n",
        "       ' Fwd Avg Bulk Rate', ' Bwd Avg Bytes/Bulk', ' Bwd Avg Packets/Bulk',\n",
        "       'Bwd Avg Bulk Rate', 'Subflow Fwd Packets', ' Subflow Fwd Bytes',\n",
        "       ' Subflow Bwd Packets', ' Subflow Bwd Bytes', 'Init_Win_bytes_forward',\n",
        "       ' Init_Win_bytes_backward', ' act_data_pkt_fwd',\n",
        "       ' min_seg_size_forward', 'Active Mean', ' Active Std', ' Active Max',\n",
        "       ' Active Min', 'Idle Mean', ' Idle Std', ' Idle Max', ' Idle Min',' Label']\n",
        "#데이터 불러오기\n",
        "df1=pd.read_csv(\"./Friday-WorkingHours-Afternoon-DDos.pcap_ISCX.csv\", usecols = cols)#,nrows = 50000\n",
        "df2=pd.read_csv(\"./Friday-WorkingHours-Afternoon-PortScan.pcap_ISCX.csv\", usecols = cols)\n",
        "df3=pd.read_csv(\"./Friday-WorkingHours-Morning.pcap_ISCX.csv\", usecols = cols)\n",
        "df4=pd.read_csv(\"./Thursday-WorkingHours-Afternoon-Infilteration.pcap_ISCX.csv\", usecols = cols)\n",
        "df5=pd.read_csv(\"./Thursday-WorkingHours-Morning-WebAttacks.pcap_ISCX.csv\", usecols = cols)\n",
        "\n",
        "#데이터 통합\n",
        "df = pd.concat([df1,df2])\n",
        "del df1,df2\n",
        "df = pd.concat([df,df3])\n",
        "del df3\n",
        "df = pd.concat([df,df4])\n",
        "del df4\n",
        "df = pd.concat([df,df5])\n",
        "del df5"
      ]
    },
    {
      "cell_type": "markdown",
      "metadata": {
        "papermill": {
          "duration": 0.010875,
          "end_time": "2022-01-14T07:43:00.294887",
          "exception": false,
          "start_time": "2022-01-14T07:43:00.284012",
          "status": "completed"
        },
        "tags": [],
        "id": "nTyQnP4P9XTF"
      },
      "source": [
        "# 선형 회귀 분석을 통한 DDOS 예측"
      ]
    },
    {
      "cell_type": "markdown",
      "metadata": {
        "papermill": {
          "duration": 0.009297,
          "end_time": "2022-01-14T07:43:00.314590",
          "exception": false,
          "start_time": "2022-01-14T07:43:00.305293",
          "status": "completed"
        },
        "tags": [],
        "id": "eyAhQl9e9XTF"
      },
      "source": [
        "0. 데이터처리\n",
        "1. LinearRegression을 통한 학습\n",
        "2. 계산 및 모델 평가"
      ]
    },
    {
      "cell_type": "markdown",
      "metadata": {
        "papermill": {
          "duration": 0.009365,
          "end_time": "2022-01-14T07:43:07.177333",
          "exception": false,
          "start_time": "2022-01-14T07:43:07.167968",
          "status": "completed"
        },
        "tags": [],
        "id": "_GzOocRf9XTF"
      },
      "source": [
        "## 데이터 처리"
      ]
    },
    {
      "cell_type": "code",
      "execution_count": 2,
      "metadata": {
        "id": "4IkJ82Fd9XTF"
      },
      "outputs": [],
      "source": [
        "data = df.copy()\n",
        "\n",
        "#계산에 필요한 데이터들은 x에 Ddos 여부를 판단하는 라벨 값은 y에 저장\n",
        "x = data[[' Bwd Packet Length Std',' PSH Flag Count',' min_seg_size_forward',\n",
        "          ' Min Packet Length',' ACK Flag Count',' Bwd Packet Length Min',\n",
        "          ' Fwd IAT Std','Init_Win_bytes_forward',' Flow IAT Max',' Bwd Packets/s',\n",
        "          ' URG Flag Count','Bwd IAT Total']]\n",
        "y = data[[' Label']]\n",
        "#학습에 사용할 데이터와 추후 예측 및 계산에 사용할 데이터를 분리\n",
        "x_train,x_test,y_train,y_test = train_test_split(x,y,train_size=0.8,test_size=0.2)"
      ]
    },
    {
      "cell_type": "code",
      "execution_count": 3,
      "metadata": {
        "execution": {
          "iopub.execute_input": "2022-01-14T07:43:07.204190Z",
          "iopub.status.busy": "2022-01-14T07:43:07.203559Z",
          "iopub.status.idle": "2022-01-14T07:44:11.603623Z",
          "shell.execute_reply": "2022-01-14T07:44:11.602503Z",
          "shell.execute_reply.started": "2022-01-14T06:39:42.923762Z"
        },
        "papermill": {
          "duration": 64.416202,
          "end_time": "2022-01-14T07:44:11.603807",
          "exception": false,
          "start_time": "2022-01-14T07:43:07.187605",
          "status": "completed"
        },
        "tags": [],
        "id": "FLJJYmm49XTF"
      },
      "outputs": [],
      "source": [
        "#디도스는 -1 값을 정상은 1 값을 가지게 설정\n",
        "attack = ['DDoS', 'PortScan', 'Bot', 'Infiltration', 'Web Attack � Brute Force',\n",
        "          'Web Attack � XSS','Web Attack � Sql Injection']\n",
        "normal = 'BENIGN'\n",
        "y_train=y_train.replace(attack,-1)\n",
        "y_train=y_train.replace(normal,1)\n",
        "y_test=y_test.replace(attack,-1)\n",
        "y_test=y_test.replace(normal,1)"
      ]
    },
    {
      "cell_type": "markdown",
      "metadata": {
        "id": "Dspd3sOT9XTG"
      },
      "source": [
        "## 선형 회귀 분석을 통한 학습"
      ]
    },
    {
      "cell_type": "code",
      "execution_count": 4,
      "metadata": {
        "colab": {
          "base_uri": "https://localhost:8080/"
        },
        "id": "BXnNpAXQ9XTG",
        "outputId": "f15f92ec-5c7f-480e-d3fc-8b64d8b619e5"
      },
      "outputs": [
        {
          "output_type": "execute_result",
          "data": {
            "text/plain": [
              "LinearRegression()"
            ]
          },
          "metadata": {},
          "execution_count": 4
        }
      ],
      "source": [
        "#LinearRegression 라이브러리를 이용해 학습\n",
        "from sklearn.linear_model import LinearRegression\n",
        "\n",
        "model=LinearRegression()\n",
        "model.fit(x_train, y_train) "
      ]
    },
    {
      "cell_type": "markdown",
      "metadata": {
        "id": "_H2yiRBJ9XTH"
      },
      "source": [
        "## 계산"
      ]
    },
    {
      "cell_type": "code",
      "execution_count": 5,
      "metadata": {
        "id": "U3ErYUHd9XTH"
      },
      "outputs": [],
      "source": [
        "#학습한 모델을 이용해 예측하기\n",
        "y_pred = model.predict(x_test)\n",
        "#원활한 계산을 위해 양수값을 1로 음수값을 -1로 치환\n",
        "for i in range(0,y_pred.size):\n",
        "    if(y_pred[i]>0):\n",
        "        y_pred[i]=1\n",
        "    else:\n",
        "        y_pred[i]=-1"
      ]
    },
    {
      "cell_type": "code",
      "execution_count": 6,
      "metadata": {
        "colab": {
          "base_uri": "https://localhost:8080/"
        },
        "id": "lxY_1xAG9XTH",
        "outputId": "81314146-04a9-4c71-d594-1c8fbd206f97"
      },
      "outputs": [
        {
          "output_type": "stream",
          "name": "stdout",
          "text": [
            "True Negetive 34425 \n",
            "True Positive 166191\n",
            "False Negetive 8161 \n",
            "False Positive 23666\n"
          ]
        }
      ],
      "source": [
        "from sklearn.metrics import confusion_matrix\n",
        "#그래프로 각 영역에 해당하는 데이터 수를 알 수 없어서 따로 표현\n",
        "cf_matrix = confusion_matrix(y_test, y_pred)\n",
        "tn, fp, fn, tp = cf_matrix.ravel()\n",
        "print (\"True Negetive\", tn, \n",
        "       \"\\nTrue Positive\", tp)\n",
        "print (\"False Negetive\", fn, \n",
        "       \"\\nFalse Positive\", fp)"
      ]
    },
    {
      "cell_type": "markdown",
      "metadata": {
        "id": "Gp2U4bte9XTH"
      },
      "source": [
        "## 모델 평가"
      ]
    },
    {
      "cell_type": "code",
      "execution_count": 7,
      "metadata": {
        "colab": {
          "base_uri": "https://localhost:8080/"
        },
        "id": "DMHQIbnL9XTH",
        "outputId": "b1bd26cf-243a-4f2c-b32a-ea4344f27c9f"
      },
      "outputs": [
        {
          "output_type": "stream",
          "name": "stdout",
          "text": [
            "Recall 0.9531923924015784 \n",
            "Precision 0.8753482884486745\n",
            "F1 Score 0.9126133621080204\n"
          ]
        }
      ],
      "source": [
        "recall = tp/(tp+fn) #공격 적발률\n",
        "precision = tp/(tp+fp) #정상 이용자 판단 확률\n",
        "print(\"Recall\", recall, \"\\nPrecision\", precision)\n",
        "f1 = 2 * (precision*recall)/(precision+recall)\n",
        "print(\"F1 Score\", f1)"
      ]
    },
    {
      "cell_type": "markdown",
      "metadata": {
        "id": "X7mhkjIz9XTI"
      },
      "source": [
        "# 선형회귀분석 성능 향상 시켜보기"
      ]
    },
    {
      "cell_type": "markdown",
      "metadata": {
        "id": "842_KneW9XTI"
      },
      "source": [
        "## 데이터 전처리에 모든 column 사용"
      ]
    },
    {
      "cell_type": "markdown",
      "metadata": {
        "id": "q-B3_NIK9XTI"
      },
      "source": [
        "### 학습 및 계산"
      ]
    },
    {
      "cell_type": "code",
      "execution_count": 8,
      "metadata": {
        "id": "OCrbZmau9XTI"
      },
      "outputs": [],
      "source": [
        "dat = df.copy()\n",
        "dat.dropna(1,inplace=True)\n",
        "#선형 회귀 분석이라 inf와 NaN 값이 있는 Flow Packets/s를 사용하지 않기\n",
        "dat=dat.drop(columns=[' Flow Packets/s'], axis=1, inplace=False)\n",
        "\n",
        "def testing_all(data):\n",
        "    x = data[data.columns[0:-1]]\n",
        "    y = data[[' Label']]\n",
        "    x_train,x_test,y_train,y_test = train_test_split(x,y,train_size=0.8,test_size=0.2)\n",
        "    attack = ['DDoS', 'PortScan', 'Bot', 'Infiltration', 'Web Attack � Brute Force', 'Web Attack � XSS', 'Web Attack � Sql Injection']\n",
        "    normal = 'BENIGN'\n",
        "    y_train=y_train.replace(attack,-1)\n",
        "    y_train=y_train.replace(normal,1)\n",
        "    y_test=y_test.replace(attack,-1)\n",
        "    y_test=y_test.replace(normal,1)\n",
        "    model=LinearRegression()\n",
        "    model.fit(x_train, y_train) \n",
        "    y_pred = model.predict(x_test)\n",
        "    for i in range(0,y_pred.size):\n",
        "        if(y_pred[i]>0):\n",
        "            y_pred[i]=1\n",
        "        else:\n",
        "            y_pred[i]=-1\n",
        "    cf_matrix = confusion_matrix(y_test, y_pred)\n",
        "    tn, fp, fn, tp = cf_matrix.ravel()\n",
        "    recall = tp/(tp+fn) #공격 적발률\n",
        "    precision = tp/(tp+fp) #정상 이용자 판단 확률\n",
        "#    print(\"Recall\", recall, \"\\nPrecision\", precision)\n",
        "    f = 2 * (precision*recall)/(precision+recall)\n",
        "#    print(\"F1 Score\", f)\n",
        "    \n",
        "    return f"
      ]
    },
    {
      "cell_type": "code",
      "execution_count": 9,
      "metadata": {
        "colab": {
          "base_uri": "https://localhost:8080/"
        },
        "id": "wClWg5j69XTI",
        "outputId": "6aa13d02-6b55-44e2-a0a0-8e7ba621934c"
      },
      "outputs": [
        {
          "output_type": "stream",
          "name": "stdout",
          "text": [
            "평균 f1점수: 0.9544856803365807\n"
          ]
        }
      ],
      "source": [
        "sum=0\n",
        "for z in range(1,21):\n",
        "    a = testing_all(dat)\n",
        "    sum +=a\n",
        "sum/=20\n",
        "print(\"평균 f1점수:\",sum)"
      ]
    },
    {
      "cell_type": "markdown",
      "metadata": {
        "id": "JpCi3v0x9XTJ"
      },
      "source": [
        "정상 이용자를 판단할 확률이 크게 상승항여 F1 점수가 크게 상승"
      ]
    },
    {
      "cell_type": "markdown",
      "metadata": {
        "id": "pcs-1LG-9XTJ"
      },
      "source": [
        "## column을 1개씩 제외하며 성능 변화 측정"
      ]
    },
    {
      "cell_type": "code",
      "execution_count": 10,
      "metadata": {
        "id": "8oiVhRAX9XTJ"
      },
      "outputs": [],
      "source": [
        "data = df.copy()\n",
        "data.dropna(1,inplace=True)\n",
        "#선형 회귀 분석이라 inf와 NaN 값이 있는 Flow Packets/s를 사용하지 않기\n",
        "data=data.drop(columns=[' Flow Packets/s'], axis=1, inplace=False)"
      ]
    },
    {
      "cell_type": "code",
      "execution_count": 12,
      "metadata": {
        "colab": {
          "base_uri": "https://localhost:8080/"
        },
        "id": "UDK1umIq9XTJ",
        "outputId": "860a9d27-c53d-406c-8998-24810d1232ae"
      },
      "outputs": [
        {
          "output_type": "stream",
          "name": "stdout",
          "text": [
            " Destination Port 를 제외할 시\n",
            "True Negetive 51193 \n",
            "True Positive 165531\n",
            "False Negetive 8745 \n",
            "False Positive 6974\n",
            "Recall 0.9498209736280383 \n",
            "Precision 0.9595721863134402\n",
            "F1 Score 0.9546716803977151\n",
            "----------------------------------------------------------\n",
            " Flow Duration 를 제외할 시\n",
            "True Negetive 50820 \n",
            "True Positive 165611\n",
            "False Negetive 8612 \n",
            "False Positive 7400\n",
            "Recall 0.950569098224689 \n",
            "Precision 0.9572281531232119\n",
            "F1 Score 0.9538870041528191\n",
            "----------------------------------------------------------\n",
            " Total Fwd Packets 를 제외할 시\n",
            "True Negetive 50950 \n",
            "True Positive 165742\n",
            "False Negetive 8674 \n",
            "False Positive 7077\n",
            "Recall 0.9502683240069718 \n",
            "Precision 0.9590496415324704\n",
            "F1 Score 0.954638789292554\n",
            "----------------------------------------------------------\n",
            " Total Backward Packets 를 제외할 시\n",
            "True Negetive 51030 \n",
            "True Positive 165436\n",
            "False Negetive 8766 \n",
            "False Positive 7211\n",
            "Recall 0.9496791081617892 \n",
            "Precision 0.9582326944574768\n",
            "F1 Score 0.9539367275096656\n",
            "----------------------------------------------------------\n",
            "Total Length of Fwd Packets 를 제외할 시\n",
            "True Negetive 50835 \n",
            "True Positive 165573\n",
            "False Negetive 8704 \n",
            "False Positive 7331\n",
            "Recall 0.9500565192194036 \n",
            "Precision 0.9576007495488826\n",
            "F1 Score 0.9538137167644544\n",
            "----------------------------------------------------------\n",
            " Total Length of Bwd Packets 를 제외할 시\n",
            "True Negetive 50911 \n",
            "True Positive 165698\n",
            "False Negetive 8688 \n",
            "False Positive 7146\n",
            "Recall 0.9501794868854151 \n",
            "Precision 0.9586563606489088\n",
            "F1 Score 0.9543991014601272\n",
            "----------------------------------------------------------\n",
            " Fwd Packet Length Max 를 제외할 시\n",
            "True Negetive 50859 \n",
            "True Positive 166000\n",
            "False Negetive 8487 \n",
            "False Positive 7097\n",
            "Recall 0.9513602732581797 \n",
            "Precision 0.9589998671265244\n",
            "F1 Score 0.9551647946971092\n",
            "----------------------------------------------------------\n",
            " Fwd Packet Length Min 를 제외할 시\n",
            "True Negetive 51322 \n",
            "True Positive 165393\n",
            "False Negetive 8769 \n",
            "False Positive 6959\n",
            "Recall 0.9496503255589623 \n",
            "Precision 0.959623329001114\n",
            "F1 Score 0.9546107805168046\n",
            "----------------------------------------------------------\n",
            " Fwd Packet Length Mean 를 제외할 시\n",
            "True Negetive 50791 \n",
            "True Positive 165679\n",
            "False Negetive 8609 \n",
            "False Positive 7364\n",
            "Recall 0.9506047461672634 \n",
            "Precision 0.9574441034887282\n",
            "F1 Score 0.9540121670683008\n",
            "----------------------------------------------------------\n",
            " Fwd Packet Length Std 를 제외할 시\n",
            "True Negetive 50747 \n",
            "True Positive 165540\n",
            "False Negetive 8505 \n",
            "False Positive 7651\n",
            "Recall 0.9511333275876929 \n",
            "Precision 0.9558233395499767\n",
            "F1 Score 0.9534725662085728\n",
            "----------------------------------------------------------\n",
            "Bwd Packet Length Max 를 제외할 시\n",
            "True Negetive 51156 \n",
            "True Positive 165891\n",
            "False Negetive 8312 \n",
            "False Positive 7084\n",
            "Recall 0.9522855519135721 \n",
            "Precision 0.9590461049284579\n",
            "F1 Score 0.9556538720771477\n",
            "----------------------------------------------------------\n",
            " Bwd Packet Length Min 를 제외할 시\n",
            "True Negetive 51084 \n",
            "True Positive 165427\n",
            "False Negetive 8626 \n",
            "False Positive 7306\n",
            "Recall 0.9504403831016989 \n",
            "Precision 0.9577035077257965\n",
            "F1 Score 0.9540581223002083\n",
            "----------------------------------------------------------\n",
            " Bwd Packet Length Mean 를 제외할 시\n",
            "True Negetive 50772 \n",
            "True Positive 165797\n",
            "False Negetive 8563 \n",
            "False Positive 7311\n",
            "Recall 0.9508889653590273 \n",
            "Precision 0.9577662499711163\n",
            "F1 Score 0.9543152175164332\n",
            "----------------------------------------------------------\n",
            " Bwd Packet Length Std 를 제외할 시\n",
            "True Negetive 50818 \n",
            "True Positive 165792\n",
            "False Negetive 8451 \n",
            "False Positive 7382\n",
            "Recall 0.9514987689605895 \n",
            "Precision 0.9573723538175477\n",
            "F1 Score 0.9544265248965941\n",
            "----------------------------------------------------------\n",
            " Flow IAT Mean 를 제외할 시\n",
            "True Negetive 50740 \n",
            "True Positive 165625\n",
            "False Negetive 8724 \n",
            "False Positive 7354\n",
            "Recall 0.9499624316744002 \n",
            "Precision 0.9574861688413044\n",
            "F1 Score 0.9537094619495117\n",
            "----------------------------------------------------------\n",
            " Flow IAT Std 를 제외할 시\n",
            "True Negetive 50652 \n",
            "True Positive 166077\n",
            "False Negetive 8398 \n",
            "False Positive 7316\n",
            "Recall 0.9518670296604098 \n",
            "Precision 0.9578068318790263\n",
            "F1 Score 0.9548276932629619\n",
            "----------------------------------------------------------\n",
            " Flow IAT Max 를 제외할 시\n",
            "True Negetive 50918 \n",
            "True Positive 165673\n",
            "False Negetive 8619 \n",
            "False Positive 7233\n",
            "Recall 0.9505485048080233 \n",
            "Precision 0.9581680219309914\n",
            "F1 Score 0.9543430549715148\n",
            "----------------------------------------------------------\n",
            " Flow IAT Min 를 제외할 시\n",
            "True Negetive 51195 \n",
            "True Positive 165621\n",
            "False Negetive 8835 \n",
            "False Positive 6792\n",
            "Recall 0.9493568578896685 \n",
            "Precision 0.9606062187886064\n",
            "F1 Score 0.9549484099184419\n",
            "----------------------------------------------------------\n",
            "Fwd IAT Total 를 제외할 시\n",
            "True Negetive 51184 \n",
            "True Positive 165246\n",
            "False Negetive 8688 \n",
            "False Positive 7325\n",
            "Recall 0.9500500189727138 \n",
            "Precision 0.9575537025340295\n",
            "F1 Score 0.9537871026392116\n",
            "----------------------------------------------------------\n",
            " Fwd IAT Mean 를 제외할 시\n",
            "True Negetive 51182 \n",
            "True Positive 165545\n",
            "False Negetive 8569 \n",
            "False Positive 7147\n",
            "Recall 0.9507851177963863 \n",
            "Precision 0.9586141801588957\n",
            "F1 Score 0.9546835983229818\n",
            "----------------------------------------------------------\n",
            " Fwd IAT Std 를 제외할 시\n",
            "True Negetive 50733 \n",
            "True Positive 165976\n",
            "False Negetive 8531 \n",
            "False Positive 7203\n",
            "Recall 0.9511137089056599 \n",
            "Precision 0.9584071971774869\n",
            "F1 Score 0.9547465241626065\n",
            "----------------------------------------------------------\n",
            " Fwd IAT Max 를 제외할 시\n",
            "True Negetive 50886 \n",
            "True Positive 165937\n",
            "False Negetive 8450 \n",
            "False Positive 7170\n",
            "Recall 0.9515445532063743 \n",
            "Precision 0.9585805311165926\n",
            "F1 Score 0.9550495835899325\n",
            "----------------------------------------------------------\n",
            " Fwd IAT Min 를 제외할 시\n",
            "True Negetive 50669 \n",
            "True Positive 165607\n",
            "False Negetive 8849 \n",
            "False Positive 7318\n",
            "Recall 0.9492766084284863 \n",
            "Precision 0.957681075610814\n",
            "F1 Score 0.9534603216641094\n",
            "----------------------------------------------------------\n",
            "Bwd IAT Total 를 제외할 시\n",
            "True Negetive 51162 \n",
            "True Positive 165465\n",
            "False Negetive 8329 \n",
            "False Positive 7487\n",
            "Recall 0.9520754456425423 \n",
            "Precision 0.9567105324020537\n",
            "F1 Score 0.954387361353844\n",
            "----------------------------------------------------------\n",
            " Bwd IAT Mean 를 제외할 시\n",
            "True Negetive 51137 \n",
            "True Positive 165577\n",
            "False Negetive 8828 \n",
            "False Positive 6901\n",
            "Recall 0.9493821851437746 \n",
            "Precision 0.959989100059138\n",
            "F1 Score 0.9546561809024945\n",
            "----------------------------------------------------------\n",
            " Bwd IAT Std 를 제외할 시\n",
            "True Negetive 50661 \n",
            "True Positive 165776\n",
            "False Negetive 8498 \n",
            "False Positive 7508\n",
            "Recall 0.9512377061409045 \n",
            "Precision 0.9566722836499619\n",
            "F1 Score 0.9539472548466731\n",
            "----------------------------------------------------------\n",
            " Bwd IAT Max 를 제외할 시\n",
            "True Negetive 51015 \n",
            "True Positive 165264\n",
            "False Negetive 8428 \n",
            "False Positive 7736\n",
            "Recall 0.9514773276834857 \n",
            "Precision 0.9552832369942197\n",
            "F1 Score 0.9533764840261674\n",
            "----------------------------------------------------------\n",
            " Bwd IAT Min 를 제외할 시\n",
            "True Negetive 51017 \n",
            "True Positive 165541\n",
            "False Negetive 8696 \n",
            "False Positive 7189\n",
            "Recall 0.9500909680492662 \n",
            "Precision 0.9583801308400394\n",
            "F1 Score 0.9542175480665308\n",
            "----------------------------------------------------------\n",
            "Fwd PSH Flags 를 제외할 시\n",
            "True Negetive 50770 \n",
            "True Positive 165894\n",
            "False Negetive 8474 \n",
            "False Positive 7305\n",
            "Recall 0.9514016333272161 \n",
            "Precision 0.9578230821194118\n",
            "F1 Score 0.9546015588361382\n",
            "----------------------------------------------------------\n",
            " Bwd PSH Flags 를 제외할 시\n",
            "True Negetive 51200 \n",
            "True Positive 165362\n",
            "False Negetive 8658 \n",
            "False Positive 7223\n",
            "Recall 0.9502470980347086 \n",
            "Precision 0.9581481588782339\n",
            "F1 Score 0.9541812726302275\n",
            "----------------------------------------------------------\n",
            " Fwd URG Flags 를 제외할 시\n",
            "True Negetive 51278 \n",
            "True Positive 165435\n",
            "False Negetive 8740 \n",
            "False Positive 6990\n",
            "Recall 0.949820582747237 \n",
            "Precision 0.9594606350587211\n",
            "F1 Score 0.9546162723600693\n",
            "----------------------------------------------------------\n",
            " Bwd URG Flags 를 제외할 시\n",
            "True Negetive 50498 \n",
            "True Positive 166051\n",
            "False Negetive 8515 \n",
            "False Positive 7379\n",
            "Recall 0.9512218874236679 \n",
            "Precision 0.9574525745257453\n",
            "F1 Score 0.9543270612305889\n",
            "----------------------------------------------------------\n",
            " Fwd Header Length 를 제외할 시\n",
            "True Negetive 50958 \n",
            "True Positive 165647\n",
            "False Negetive 8480 \n",
            "False Positive 7358\n",
            "Recall 0.9512999132816852 \n",
            "Precision 0.9574694372995\n",
            "F1 Score 0.9543747047232752\n",
            "----------------------------------------------------------\n",
            " Bwd Header Length 를 제외할 시\n",
            "True Negetive 51501 \n",
            "True Positive 165193\n",
            "False Negetive 8610 \n",
            "False Positive 7139\n",
            "Recall 0.9504611542953804 \n",
            "Precision 0.9585741475756099\n",
            "F1 Score 0.9545004116890808\n",
            "----------------------------------------------------------\n",
            "Fwd Packets/s 를 제외할 시\n",
            "True Negetive 50318 \n",
            "True Positive 165956\n",
            "False Negetive 8352 \n",
            "False Positive 7817\n",
            "Recall 0.9520848153842624 \n",
            "Precision 0.9550160266554644\n",
            "F1 Score 0.9535481683860941\n",
            "----------------------------------------------------------\n",
            " Bwd Packets/s 를 제외할 시\n",
            "True Negetive 51000 \n",
            "True Positive 164648\n",
            "False Negetive 9431 \n",
            "False Positive 7364\n",
            "Recall 0.94582344797477 \n",
            "Precision 0.9571890333232566\n",
            "F1 Score 0.9514723006376934\n",
            "----------------------------------------------------------\n",
            " Min Packet Length 를 제외할 시\n",
            "True Negetive 51204 \n",
            "True Positive 165470\n",
            "False Negetive 8749 \n",
            "False Positive 7020\n",
            "Recall 0.9497815967259599 \n",
            "Precision 0.9593019885210737\n",
            "F1 Score 0.9545180540453234\n",
            "----------------------------------------------------------\n",
            " Max Packet Length 를 제외할 시\n",
            "True Negetive 51134 \n",
            "True Positive 165967\n",
            "False Negetive 8253 \n",
            "False Positive 7089\n",
            "Recall 0.9526288600619905 \n",
            "Precision 0.9590363812869822\n",
            "F1 Score 0.9558218823068683\n",
            "----------------------------------------------------------\n",
            " Packet Length Mean 를 제외할 시\n",
            "True Negetive 51006 \n",
            "True Positive 165670\n",
            "False Negetive 8618 \n",
            "False Positive 7149\n",
            "Recall 0.9505531075002295 \n",
            "Precision 0.95863302067481\n",
            "F1 Score 0.9545759664887196\n",
            "----------------------------------------------------------\n",
            " Packet Length Std 를 제외할 시\n",
            "True Negetive 51368 \n",
            "True Positive 165518\n",
            "False Negetive 8723 \n",
            "False Positive 6834\n",
            "Recall 0.9499371560080578 \n",
            "Precision 0.960348588934274\n",
            "F1 Score 0.9551145002928507\n",
            "----------------------------------------------------------\n",
            " Packet Length Variance 를 제외할 시\n",
            "True Negetive 50704 \n",
            "True Positive 165704\n",
            "False Negetive 8464 \n",
            "False Positive 7571\n",
            "Recall 0.9514032428459878 \n",
            "Precision 0.9563064492858173\n",
            "F1 Score 0.9538485449411847\n",
            "----------------------------------------------------------\n",
            "FIN Flag Count 를 제외할 시\n",
            "True Negetive 50583 \n",
            "True Positive 166012\n",
            "False Negetive 8488 \n",
            "False Positive 7360\n",
            "Recall 0.9513581661891117 \n",
            "Precision 0.9575479316152551\n",
            "F1 Score 0.9544430135222151\n",
            "----------------------------------------------------------\n",
            " SYN Flag Count 를 제외할 시\n",
            "True Negetive 51270 \n",
            "True Positive 165339\n",
            "False Negetive 8595 \n",
            "False Positive 7239\n",
            "Recall 0.9505847045431025 \n",
            "Precision 0.9580537496088725\n",
            "F1 Score 0.9543046128272613\n",
            "----------------------------------------------------------\n",
            " RST Flag Count 를 제외할 시\n",
            "True Negetive 50788 \n",
            "True Positive 165580\n",
            "False Negetive 8784 \n",
            "False Positive 7291\n",
            "Recall 0.9496226285242366 \n",
            "Precision 0.957824042204881\n",
            "F1 Score 0.9537057036301063\n",
            "----------------------------------------------------------\n",
            " PSH Flag Count 를 제외할 시\n",
            "True Negetive 35507 \n",
            "True Positive 172016\n",
            "False Negetive 1988 \n",
            "False Positive 22932\n",
            "Recall 0.9885749752879244 \n",
            "Precision 0.8823686316351027\n",
            "F1 Score 0.9324573386239945\n",
            "----------------------------------------------------------\n",
            " ACK Flag Count 를 제외할 시\n",
            "True Negetive 49725 \n",
            "True Positive 164779\n",
            "False Negetive 9399 \n",
            "False Positive 8540\n",
            "Recall 0.9460379611661633 \n",
            "Precision 0.950726694707447\n",
            "F1 Score 0.9483765327470454\n",
            "----------------------------------------------------------\n",
            " URG Flag Count 를 제외할 시\n",
            "True Negetive 49161 \n",
            "True Positive 162246\n",
            "False Negetive 11760 \n",
            "False Positive 9276\n",
            "Recall 0.9324161235819455 \n",
            "Precision 0.9459194738867317\n",
            "F1 Score 0.9391192609571439\n",
            "----------------------------------------------------------\n",
            " CWE Flag Count 를 제외할 시\n",
            "True Negetive 50778 \n",
            "True Positive 165654\n",
            "False Negetive 8765 \n",
            "False Positive 7246\n",
            "Recall 0.9497474472391196 \n",
            "Precision 0.9580913823019086\n",
            "F1 Score 0.9539011686662694\n",
            "----------------------------------------------------------\n",
            " ECE Flag Count 를 제외할 시\n",
            "True Negetive 51203 \n",
            "True Positive 165428\n",
            "False Negetive 8620 \n",
            "False Positive 7192\n",
            "Recall 0.9504734326162898 \n",
            "Precision 0.9583362298690766\n",
            "F1 Score 0.954388636966781\n",
            "----------------------------------------------------------\n",
            " Down/Up Ratio 를 제외할 시\n",
            "True Negetive 51408 \n",
            "True Positive 162477\n",
            "False Negetive 12171 \n",
            "False Positive 6387\n",
            "Recall 0.9303112546379002 \n",
            "Precision 0.9621766628766345\n",
            "F1 Score 0.9459756864389017\n",
            "----------------------------------------------------------\n",
            " Average Packet Size 를 제외할 시\n",
            "True Negetive 51130 \n",
            "True Positive 165554\n",
            "False Negetive 8654 \n",
            "False Positive 7105\n",
            "Recall 0.9503237509184423 \n",
            "Precision 0.9588495242066732\n",
            "F1 Score 0.9545676008383617\n",
            "----------------------------------------------------------\n",
            " Avg Fwd Segment Size 를 제외할 시\n",
            "True Negetive 51395 \n",
            "True Positive 165300\n",
            "False Negetive 8731 \n",
            "False Positive 7017\n",
            "Recall 0.9498307772753131 \n",
            "Precision 0.9592785389717787\n",
            "F1 Score 0.954531280677238\n",
            "----------------------------------------------------------\n",
            " Avg Bwd Segment Size 를 제외할 시\n",
            "True Negetive 51272 \n",
            "True Positive 165345\n",
            "False Negetive 8587 \n",
            "False Positive 7239\n",
            "Recall 0.9506301313156866 \n",
            "Precision 0.9580552078987623\n",
            "F1 Score 0.9543282272680049\n",
            "----------------------------------------------------------\n",
            " Fwd Header Length.1 를 제외할 시\n",
            "True Negetive 51136 \n",
            "True Positive 165897\n",
            "False Negetive 8496 \n",
            "False Positive 6914\n",
            "Recall 0.951282448263405 \n",
            "Precision 0.9599909727968706\n",
            "F1 Score 0.9556168707733783\n",
            "----------------------------------------------------------\n",
            "Fwd Avg Bytes/Bulk 를 제외할 시\n",
            "True Negetive 51087 \n",
            "True Positive 165622\n",
            "False Negetive 8435 \n",
            "False Positive 7299\n",
            "Recall 0.9515388637055677 \n",
            "Precision 0.9577899734560869\n",
            "F1 Score 0.954654185567961\n",
            "----------------------------------------------------------\n",
            " Fwd Avg Packets/Bulk 를 제외할 시\n",
            "True Negetive 50826 \n",
            "True Positive 165740\n",
            "False Negetive 8781 \n",
            "False Positive 7096\n",
            "Recall 0.9496851381782135 \n",
            "Precision 0.9589437385729824\n",
            "F1 Score 0.9542919820242576\n",
            "----------------------------------------------------------\n",
            " Fwd Avg Bulk Rate 를 제외할 시\n",
            "True Negetive 51052 \n",
            "True Positive 165467\n",
            "False Negetive 8635 \n",
            "False Positive 7289\n",
            "Recall 0.950402637534319 \n",
            "Precision 0.9578075435874875\n",
            "F1 Score 0.9540907230048032\n",
            "----------------------------------------------------------\n",
            " Bwd Avg Bytes/Bulk 를 제외할 시\n",
            "True Negetive 50819 \n",
            "True Positive 165756\n",
            "False Negetive 8551 \n",
            "False Positive 7317\n",
            "Recall 0.9509428766486716 \n",
            "Precision 0.9577230417222791\n",
            "F1 Score 0.9543209165755081\n",
            "----------------------------------------------------------\n",
            " Bwd Avg Packets/Bulk 를 제외할 시\n",
            "True Negetive 51246 \n",
            "True Positive 165678\n",
            "False Negetive 8590 \n",
            "False Positive 6929\n",
            "Recall 0.9507081047581886 \n",
            "Precision 0.9598567844873035\n",
            "F1 Score 0.9552605405405405\n",
            "----------------------------------------------------------\n",
            "Bwd Avg Bulk Rate 를 제외할 시\n",
            "True Negetive 50842 \n",
            "True Positive 165861\n",
            "False Negetive 8401 \n",
            "False Positive 7339\n",
            "Recall 0.9517909813958293 \n",
            "Precision 0.9576270207852194\n",
            "F1 Score 0.9547000823111592\n",
            "----------------------------------------------------------\n",
            "Subflow Fwd Packets 를 제외할 시\n",
            "True Negetive 51281 \n",
            "True Positive 165417\n",
            "False Negetive 8458 \n",
            "False Positive 7287\n",
            "Recall 0.9513558590941769 \n",
            "Precision 0.9578064202334631\n",
            "F1 Score 0.9545702422824234\n",
            "----------------------------------------------------------\n",
            " Subflow Fwd Bytes 를 제외할 시\n",
            "True Negetive 50931 \n",
            "True Positive 165653\n",
            "False Negetive 8466 \n",
            "False Positive 7393\n",
            "Recall 0.9513780805081582 \n",
            "Precision 0.9572772557585845\n",
            "F1 Score 0.9543185516973197\n",
            "----------------------------------------------------------\n",
            " Subflow Bwd Packets 를 제외할 시\n",
            "True Negetive 50907 \n",
            "True Positive 165707\n",
            "False Negetive 8621 \n",
            "False Positive 7208\n",
            "Recall 0.9505472442751595 \n",
            "Precision 0.9583147789376283\n",
            "F1 Score 0.9544152077939656\n",
            "----------------------------------------------------------\n",
            " Subflow Bwd Bytes 를 제외할 시\n",
            "True Negetive 51214 \n",
            "True Positive 165416\n",
            "False Negetive 8639 \n",
            "False Positive 7174\n",
            "Recall 0.9503662635373876 \n",
            "Precision 0.9584332811866273\n",
            "F1 Score 0.9543827258434421\n",
            "----------------------------------------------------------\n",
            "Init_Win_bytes_forward 를 제외할 시\n",
            "True Negetive 51155 \n",
            "True Positive 164964\n",
            "False Negetive 8951 \n",
            "False Positive 7373\n",
            "Recall 0.9485323290112986 \n",
            "Precision 0.9572175446944069\n",
            "F1 Score 0.9528551459630558\n",
            "----------------------------------------------------------\n",
            " Init_Win_bytes_backward 를 제외할 시\n",
            "True Negetive 51008 \n",
            "True Positive 163692\n",
            "False Negetive 10428 \n",
            "False Positive 7315\n",
            "Recall 0.9401102687801516 \n",
            "Precision 0.9572239732876432\n",
            "F1 Score 0.9485899393556575\n",
            "----------------------------------------------------------\n",
            " act_data_pkt_fwd 를 제외할 시\n",
            "True Negetive 51264 \n",
            "True Positive 165290\n",
            "False Negetive 8599 \n",
            "False Positive 7290\n",
            "Recall 0.9505489133872758 \n",
            "Precision 0.957758720593348\n",
            "F1 Score 0.9541401972470841\n",
            "----------------------------------------------------------\n",
            " min_seg_size_forward 를 제외할 시\n",
            "True Negetive 51853 \n",
            "True Positive 163460\n",
            "False Negetive 10793 \n",
            "False Positive 6337\n",
            "Recall 0.9380613246256879 \n",
            "Precision 0.9626789637037168\n",
            "F1 Score 0.9502107251852928\n",
            "----------------------------------------------------------\n",
            "Active Mean 를 제외할 시\n",
            "True Negetive 50913 \n",
            "True Positive 165698\n",
            "False Negetive 8785 \n",
            "False Positive 7047\n",
            "Recall 0.9496512554231644 \n",
            "Precision 0.9592057657240441\n",
            "F1 Score 0.9544045987074775\n",
            "----------------------------------------------------------\n",
            " Active Std 를 제외할 시\n",
            "True Negetive 50924 \n",
            "True Positive 165602\n",
            "False Negetive 8780 \n",
            "False Positive 7137\n",
            "Recall 0.949650766707573 \n",
            "Precision 0.9586833315001244\n",
            "F1 Score 0.9541456725464607\n",
            "----------------------------------------------------------\n",
            " Active Max 를 제외할 시\n",
            "True Negetive 50861 \n",
            "True Positive 165494\n",
            "False Negetive 8651 \n",
            "False Positive 7437\n",
            "Recall 0.9503230066898274 \n",
            "Precision 0.9569944081743585\n",
            "F1 Score 0.9536470398414179\n",
            "----------------------------------------------------------\n",
            " Active Min 를 제외할 시\n",
            "True Negetive 50950 \n",
            "True Positive 165579\n",
            "False Negetive 8757 \n",
            "False Positive 7157\n",
            "Recall 0.9497694107929515 \n",
            "Precision 0.9585668303075213\n",
            "F1 Score 0.954147842522589\n",
            "----------------------------------------------------------\n",
            "Idle Mean 를 제외할 시\n",
            "True Negetive 51020 \n",
            "True Positive 165880\n",
            "False Negetive 8342 \n",
            "False Positive 7201\n",
            "Recall 0.952118561375716 \n",
            "Precision 0.9583952022463471\n",
            "F1 Score 0.9552465714376207\n",
            "----------------------------------------------------------\n",
            " Idle Std 를 제외할 시\n",
            "True Negetive 51218 \n",
            "True Positive 165307\n",
            "False Negetive 8707 \n",
            "False Positive 7211\n",
            "Recall 0.9499637960164125 \n",
            "Precision 0.9582014630357412\n",
            "F1 Score 0.954064848267981\n",
            "----------------------------------------------------------\n",
            " Idle Max 를 제외할 시\n",
            "True Negetive 51026 \n",
            "True Positive 165733\n",
            "False Negetive 8494 \n",
            "False Positive 7190\n",
            "Recall 0.951247510431793 \n",
            "Precision 0.9584208000092527\n",
            "F1 Score 0.9548206827020019\n",
            "----------------------------------------------------------\n",
            " Idle Min 를 제외할 시\n",
            "True Negetive 50892 \n",
            "True Positive 165820\n",
            "False Negetive 8415 \n",
            "False Positive 7316\n",
            "Recall 0.9517031595259277 \n",
            "Precision 0.9577442010904722\n",
            "F1 Score 0.954714124092109\n",
            "----------------------------------------------------------\n",
            " Label 를 제외할 시\n",
            "True Negetive 51195 \n",
            "True Positive 165615\n",
            "False Negetive 8604 \n",
            "False Positive 7029\n",
            "Recall 0.9506138825271641 \n",
            "Precision 0.9592861611176757\n",
            "F1 Score 0.9549303327250241\n",
            "----------------------------------------------------------\n"
          ]
        }
      ],
      "source": [
        "data1 =data.copy()\n",
        "change_rate = {'비교값': sum }\n",
        "y = data1[[' Label']]\n",
        "attack = ['DDoS', 'PortScan', 'Bot', 'Infiltration', 'Web Attack � Brute Force', 'Web Attack � XSS', 'Web Attack � Sql Injection']\n",
        "normal = 'BENIGN'\n",
        "#디도스는 -1 값을 정상은 1 값을 가지게 설정\n",
        "y=y.replace(attack,-1)\n",
        "y=y.replace(normal,1)\n",
        "\n",
        "for i in data:\n",
        "    if i!=\" Label\":\n",
        "        data1=data.drop(columns=[i], axis=1, inplace=False)\n",
        "    x = data[data1.columns[0:-1]]\n",
        "    #학습에 사용할 데이터와 추후 예측 및 계산에 사용할 데이터를 분리\n",
        "    x_train,x_test,y_train,y_test = train_test_split(x,y,train_size=0.8,test_size=0.2)\n",
        "    model=LinearRegression()\n",
        "    model.fit(x_train, y_train) \n",
        "    #학습한 모델을 이용해 예측하기\n",
        "    y_pred = model.predict(x_test)\n",
        "    #원활한 계산을 위해 양수값을 1로 음수값을 -1로 치환\n",
        "    for j in range(0,y_pred.size):\n",
        "        if(y_pred[j]>0):\n",
        "            y_pred[j]=1\n",
        "        else:\n",
        "            y_pred[j]=-1\n",
        "    cf_matrix = confusion_matrix(y_test, y_pred)\n",
        "    tn, fp, fn, tp = cf_matrix.ravel()\n",
        "    print(i,\"를 제외할 시\")\n",
        "    print (\"True Negetive\", tn, \n",
        "           \"\\nTrue Positive\", tp)\n",
        "    print (\"False Negetive\", fn, \n",
        "           \"\\nFalse Positive\", fp)\n",
        "    recall = tp/(tp+fn) #공격 적발률\n",
        "    precision = tp/(tp+fp) #정상 이용자 판단 확률\n",
        "    print(\"Recall\", recall, \"\\nPrecision\", precision)\n",
        "    f = 2 * (precision*recall)/(precision+recall)\n",
        "    print(\"F1 Score\", f)\n",
        "    change_rate[i]=f\n",
        "    print(\"----------------------------------------------------------\")"
      ]
    },
    {
      "cell_type": "code",
      "execution_count": 13,
      "metadata": {
        "colab": {
          "base_uri": "https://localhost:8080/"
        },
        "id": "-6d7Q18V9XTJ",
        "outputId": "cdda219f-6c94-4cc8-e84f-b2984e117588"
      },
      "outputs": [
        {
          "output_type": "execute_result",
          "data": {
            "text/plain": [
              "{'비교값': 0.9544856803365807,\n",
              " ' Destination Port': 0.9546716803977151,\n",
              " ' Flow Duration': 0.9538870041528191,\n",
              " ' Total Fwd Packets': 0.954638789292554,\n",
              " ' Total Backward Packets': 0.9539367275096656,\n",
              " 'Total Length of Fwd Packets': 0.9538137167644544,\n",
              " ' Total Length of Bwd Packets': 0.9543991014601272,\n",
              " ' Fwd Packet Length Max': 0.9551647946971092,\n",
              " ' Fwd Packet Length Min': 0.9546107805168046,\n",
              " ' Fwd Packet Length Mean': 0.9540121670683008,\n",
              " ' Fwd Packet Length Std': 0.9534725662085728,\n",
              " 'Bwd Packet Length Max': 0.9556538720771477,\n",
              " ' Bwd Packet Length Min': 0.9540581223002083,\n",
              " ' Bwd Packet Length Mean': 0.9543152175164332,\n",
              " ' Bwd Packet Length Std': 0.9544265248965941,\n",
              " ' Flow IAT Mean': 0.9537094619495117,\n",
              " ' Flow IAT Std': 0.9548276932629619,\n",
              " ' Flow IAT Max': 0.9543430549715148,\n",
              " ' Flow IAT Min': 0.9549484099184419,\n",
              " 'Fwd IAT Total': 0.9537871026392116,\n",
              " ' Fwd IAT Mean': 0.9546835983229818,\n",
              " ' Fwd IAT Std': 0.9547465241626065,\n",
              " ' Fwd IAT Max': 0.9550495835899325,\n",
              " ' Fwd IAT Min': 0.9534603216641094,\n",
              " 'Bwd IAT Total': 0.954387361353844,\n",
              " ' Bwd IAT Mean': 0.9546561809024945,\n",
              " ' Bwd IAT Std': 0.9539472548466731,\n",
              " ' Bwd IAT Max': 0.9533764840261674,\n",
              " ' Bwd IAT Min': 0.9542175480665308,\n",
              " 'Fwd PSH Flags': 0.9546015588361382,\n",
              " ' Bwd PSH Flags': 0.9541812726302275,\n",
              " ' Fwd URG Flags': 0.9546162723600693,\n",
              " ' Bwd URG Flags': 0.9543270612305889,\n",
              " ' Fwd Header Length': 0.9543747047232752,\n",
              " ' Bwd Header Length': 0.9545004116890808,\n",
              " 'Fwd Packets/s': 0.9535481683860941,\n",
              " ' Bwd Packets/s': 0.9514723006376934,\n",
              " ' Min Packet Length': 0.9545180540453234,\n",
              " ' Max Packet Length': 0.9558218823068683,\n",
              " ' Packet Length Mean': 0.9545759664887196,\n",
              " ' Packet Length Std': 0.9551145002928507,\n",
              " ' Packet Length Variance': 0.9538485449411847,\n",
              " 'FIN Flag Count': 0.9544430135222151,\n",
              " ' SYN Flag Count': 0.9543046128272613,\n",
              " ' RST Flag Count': 0.9537057036301063,\n",
              " ' PSH Flag Count': 0.9324573386239945,\n",
              " ' ACK Flag Count': 0.9483765327470454,\n",
              " ' URG Flag Count': 0.9391192609571439,\n",
              " ' CWE Flag Count': 0.9539011686662694,\n",
              " ' ECE Flag Count': 0.954388636966781,\n",
              " ' Down/Up Ratio': 0.9459756864389017,\n",
              " ' Average Packet Size': 0.9545676008383617,\n",
              " ' Avg Fwd Segment Size': 0.954531280677238,\n",
              " ' Avg Bwd Segment Size': 0.9543282272680049,\n",
              " ' Fwd Header Length.1': 0.9556168707733783,\n",
              " 'Fwd Avg Bytes/Bulk': 0.954654185567961,\n",
              " ' Fwd Avg Packets/Bulk': 0.9542919820242576,\n",
              " ' Fwd Avg Bulk Rate': 0.9540907230048032,\n",
              " ' Bwd Avg Bytes/Bulk': 0.9543209165755081,\n",
              " ' Bwd Avg Packets/Bulk': 0.9552605405405405,\n",
              " 'Bwd Avg Bulk Rate': 0.9547000823111592,\n",
              " 'Subflow Fwd Packets': 0.9545702422824234,\n",
              " ' Subflow Fwd Bytes': 0.9543185516973197,\n",
              " ' Subflow Bwd Packets': 0.9544152077939656,\n",
              " ' Subflow Bwd Bytes': 0.9543827258434421,\n",
              " 'Init_Win_bytes_forward': 0.9528551459630558,\n",
              " ' Init_Win_bytes_backward': 0.9485899393556575,\n",
              " ' act_data_pkt_fwd': 0.9541401972470841,\n",
              " ' min_seg_size_forward': 0.9502107251852928,\n",
              " 'Active Mean': 0.9544045987074775,\n",
              " ' Active Std': 0.9541456725464607,\n",
              " ' Active Max': 0.9536470398414179,\n",
              " ' Active Min': 0.954147842522589,\n",
              " 'Idle Mean': 0.9552465714376207,\n",
              " ' Idle Std': 0.954064848267981,\n",
              " ' Idle Max': 0.9548206827020019,\n",
              " ' Idle Min': 0.954714124092109,\n",
              " ' Label': 0.9549303327250241}"
            ]
          },
          "metadata": {},
          "execution_count": 13
        }
      ],
      "source": [
        "change_rate"
      ]
    },
    {
      "cell_type": "markdown",
      "metadata": {
        "id": "cg1Dywrm9XTK"
      },
      "source": [
        "### 성능에 긍정적 영향을 주는 컬럼들로만 학습을 진행"
      ]
    },
    {
      "cell_type": "code",
      "execution_count": 14,
      "metadata": {
        "id": "gd4-PLQ-9XTK"
      },
      "outputs": [],
      "source": [
        "new_list = []\n",
        "for i in change_rate:\n",
        "    if change_rate[i]-change_rate['비교값'] < -0.0001 and i != 'Fwd Packets/s' and i != '비교값' and i != ' Label':\n",
        "        new_list.append(i)"
      ]
    },
    {
      "cell_type": "code",
      "execution_count": 15,
      "metadata": {
        "colab": {
          "base_uri": "https://localhost:8080/"
        },
        "id": "pae-5O3V9XTK",
        "outputId": "711dc647-98e6-48b0-d749-9e6a7d767225"
      },
      "outputs": [
        {
          "output_type": "execute_result",
          "data": {
            "text/plain": [
              "40"
            ]
          },
          "metadata": {},
          "execution_count": 15
        }
      ],
      "source": [
        "len(new_list)"
      ]
    },
    {
      "cell_type": "markdown",
      "metadata": {
        "id": "TSD5xbJg9XTK"
      },
      "source": [
        "## 학습"
      ]
    },
    {
      "cell_type": "code",
      "execution_count": 16,
      "metadata": {
        "id": "243Z0EfJ9XTK"
      },
      "outputs": [],
      "source": [
        "def testing_p(lists):\n",
        "    data = df.copy()\n",
        "    x = data[lists]\n",
        "    y = data[[' Label']]\n",
        "    #학습에 사용할 데이터와 추후 예측 및 계산에 사용할 데이터를 분리\n",
        "    x_train,x_test,y_train,y_test = train_test_split(x,y,train_size=0.8,test_size=0.2)\n",
        "    #디도스는 -1 값을 정상은 1 값을 가지게 설정\n",
        "    attack = ['DDoS', 'PortScan', 'Bot', 'Infiltration', 'Web Attack � Brute Force', 'Web Attack � XSS', 'Web Attack � Sql Injection']\n",
        "    normal = 'BENIGN'\n",
        "    y_train=y_train.replace(attack,-1)\n",
        "    y_train=y_train.replace(normal,1)\n",
        "    y_test=y_test.replace(attack,-1)\n",
        "    y_test=y_test.replace(normal,1)\n",
        "    model=LinearRegression()\n",
        "    model.fit(x_train, y_train) \n",
        "    #학습한 모델을 이용해 예측하기\n",
        "    y_pred = model.predict(x_test)\n",
        "    #원활한 계산을 위해 양수값을 1로 음수값을 -1로 치환\n",
        "    for j in range(0,y_pred.size):\n",
        "        if(y_pred[j]>0):\n",
        "            y_pred[j]=1\n",
        "        else:\n",
        "            y_pred[j]=-1\n",
        "    cf_matrix = confusion_matrix(y_test, y_pred)\n",
        "    tn, fp, fn, tp = cf_matrix.ravel()\n",
        "#    print (\"True Negetive\", tn, \n",
        "#           \"\\nTrue Positive\", tp)\n",
        "#    print (\"False Negetive\", fn, \n",
        "#           \"\\nFalse Positive\", fp)\n",
        "    recall = tp/(tp+fn) #공격 적발률\n",
        "    precision = tp/(tp+fp) #정상 이용자 판단 확률\n",
        "    print(\"Recall\", recall, \"\\nPrecision\", precision)\n",
        "    f = 2 * (precision*recall)/(precision+recall)\n",
        "    print(\"F1 Score\", f)\n",
        "    return f"
      ]
    },
    {
      "cell_type": "code",
      "execution_count": 17,
      "metadata": {
        "colab": {
          "base_uri": "https://localhost:8080/"
        },
        "id": "a0HSNibG9XTL",
        "outputId": "979326e1-847c-4084-819c-ba46111ecba4"
      },
      "outputs": [
        {
          "output_type": "stream",
          "name": "stdout",
          "text": [
            "1\n",
            "Recall 0.9483398224396743 \n",
            "Precision 0.9405995295350599\n",
            "F1 Score 0.9444538173166832\n",
            "2\n",
            "Recall 0.9450297702779517 \n",
            "Precision 0.9407357026097095\n",
            "F1 Score 0.9428778474432087\n",
            "3\n",
            "Recall 0.9462118821538197 \n",
            "Precision 0.94094825126947\n",
            "F1 Score 0.9435727261024416\n",
            "4\n",
            "Recall 0.9479928471537633 \n",
            "Precision 0.9413244399927153\n",
            "F1 Score 0.9446468753926461\n",
            "5\n",
            "Recall 0.9475037448132184 \n",
            "Precision 0.9412106769437761\n",
            "F1 Score 0.9443467268416431\n",
            "6\n",
            "Recall 0.9479346152962529 \n",
            "Precision 0.9403516568667669\n",
            "F1 Score 0.9441279103026142\n",
            "7\n",
            "Recall 0.9475158535118321 \n",
            "Precision 0.9405225599181191\n",
            "F1 Score 0.9440062551365173\n",
            "8\n",
            "Recall 0.9478113222699608 \n",
            "Precision 0.9410474877834858\n",
            "F1 Score 0.9444172946835052\n",
            "9\n",
            "Recall 0.9492344467437475 \n",
            "Precision 0.9404044591593927\n",
            "F1 Score 0.9447988223748772\n",
            "10\n",
            "Recall 0.9471282707638622 \n",
            "Precision 0.9398354073525643\n",
            "F1 Score 0.9434677460851071\n",
            "11\n",
            "Recall 0.9471422827273249 \n",
            "Precision 0.9405027407183477\n",
            "F1 Score 0.9438108348668753\n",
            "12\n",
            "Recall 0.9467665999552709 \n",
            "Precision 0.9399320242981822\n",
            "F1 Score 0.9433369329836531\n",
            "13\n",
            "Recall 0.9478099591161744 \n",
            "Precision 0.9399728935559555\n",
            "F1 Score 0.9438751586820526\n",
            "14\n",
            "Recall 0.9480537343542249 \n",
            "Precision 0.94101585387359\n",
            "F1 Score 0.9445216840194015\n",
            "15\n",
            "Recall 0.9476033133705055 \n",
            "Precision 0.9410605231975208\n",
            "F1 Score 0.944320585377008\n",
            "16\n",
            "Recall 0.9475594651008097 \n",
            "Precision 0.9410515165666253\n",
            "F1 Score 0.9442942779914396\n",
            "17\n",
            "Recall 0.9463627952948207 \n",
            "Precision 0.940488155880942\n",
            "F1 Score 0.9434163303535369\n",
            "18\n",
            "Recall 0.947895722508818 \n",
            "Precision 0.9398670547558968\n",
            "F1 Score 0.9438643156434567\n",
            "19\n",
            "Recall 0.950313164396943 \n",
            "Precision 0.941173457773731\n",
            "F1 Score 0.9457212294496069\n",
            "20\n",
            "Recall 0.9485423192097202 \n",
            "Precision 0.9408190089275046\n",
            "F1 Score 0.9446648784375563\n"
          ]
        },
        {
          "output_type": "execute_result",
          "data": {
            "text/plain": [
              "0.9441271124741915"
            ]
          },
          "metadata": {},
          "execution_count": 17
        }
      ],
      "source": [
        "sum = 0\n",
        "for count in range(1,21):\n",
        "    print(count)\n",
        "    sum += testing_p(new_list)\n",
        "sum /= 20\n",
        "sum"
      ]
    },
    {
      "cell_type": "markdown",
      "metadata": {
        "id": "yafkZwJt9XTL"
      },
      "source": [
        "처음보다 성능이 향상했지만 모든 컬럼을 사용할 때 보다는 성능이 떨어진다."
      ]
    },
    {
      "cell_type": "markdown",
      "metadata": {
        "id": "gTEyawEM9XTL"
      },
      "source": [
        "### 성능에 부정적 영향을 주는 컬럼들을 제외한 체 학습을 진행"
      ]
    },
    {
      "cell_type": "code",
      "execution_count": 18,
      "metadata": {
        "id": "xToDVbi99XTL"
      },
      "outputs": [],
      "source": [
        "new_list = []\n",
        "for i in change_rate:\n",
        "    #제외안 체 학습할 것이므로 비교할때 작은 것으로 리스트를 구성\n",
        "    if change_rate[i]-change_rate['비교값'] < 0.0001 and i != 'Fwd Packets/s' and i != '비교값' and i !=' Label':\n",
        "        new_list.append(i)"
      ]
    },
    {
      "cell_type": "code",
      "execution_count": 19,
      "metadata": {
        "colab": {
          "base_uri": "https://localhost:8080/"
        },
        "id": "_HuPH4_k9XTL",
        "outputId": "b0dd9653-c9eb-4d6e-ba69-781a45e0a0aa"
      },
      "outputs": [
        {
          "output_type": "execute_result",
          "data": {
            "text/plain": [
              "[' Flow Duration',\n",
              " ' Total Backward Packets',\n",
              " 'Total Length of Fwd Packets',\n",
              " ' Total Length of Bwd Packets',\n",
              " ' Fwd Packet Length Mean',\n",
              " ' Fwd Packet Length Std',\n",
              " ' Bwd Packet Length Min',\n",
              " ' Bwd Packet Length Mean',\n",
              " ' Bwd Packet Length Std',\n",
              " ' Flow IAT Mean',\n",
              " ' Flow IAT Max',\n",
              " 'Fwd IAT Total',\n",
              " ' Fwd IAT Min',\n",
              " 'Bwd IAT Total',\n",
              " ' Bwd IAT Std',\n",
              " ' Bwd IAT Max',\n",
              " ' Bwd IAT Min',\n",
              " ' Bwd PSH Flags',\n",
              " ' Bwd URG Flags',\n",
              " ' Fwd Header Length',\n",
              " ' Bwd Header Length',\n",
              " ' Bwd Packets/s',\n",
              " ' Min Packet Length',\n",
              " ' Packet Length Mean',\n",
              " ' Packet Length Variance',\n",
              " 'FIN Flag Count',\n",
              " ' SYN Flag Count',\n",
              " ' RST Flag Count',\n",
              " ' PSH Flag Count',\n",
              " ' ACK Flag Count',\n",
              " ' URG Flag Count',\n",
              " ' CWE Flag Count',\n",
              " ' ECE Flag Count',\n",
              " ' Down/Up Ratio',\n",
              " ' Average Packet Size',\n",
              " ' Avg Fwd Segment Size',\n",
              " ' Avg Bwd Segment Size',\n",
              " ' Fwd Avg Packets/Bulk',\n",
              " ' Fwd Avg Bulk Rate',\n",
              " ' Bwd Avg Bytes/Bulk',\n",
              " 'Subflow Fwd Packets',\n",
              " ' Subflow Fwd Bytes',\n",
              " ' Subflow Bwd Packets',\n",
              " ' Subflow Bwd Bytes',\n",
              " 'Init_Win_bytes_forward',\n",
              " ' Init_Win_bytes_backward',\n",
              " ' act_data_pkt_fwd',\n",
              " ' min_seg_size_forward',\n",
              " 'Active Mean',\n",
              " ' Active Std',\n",
              " ' Active Max',\n",
              " ' Active Min',\n",
              " ' Idle Std']"
            ]
          },
          "metadata": {},
          "execution_count": 19
        }
      ],
      "source": [
        "new_list"
      ]
    },
    {
      "cell_type": "code",
      "execution_count": 20,
      "metadata": {
        "colab": {
          "base_uri": "https://localhost:8080/"
        },
        "id": "f424hkkR9XTL",
        "outputId": "52f5f0d7-d527-4419-d262-9822fb9fd8c8"
      },
      "outputs": [
        {
          "output_type": "stream",
          "name": "stdout",
          "text": [
            "1\n",
            "Recall 0.9476250646143243 \n",
            "Precision 0.9393970450081134\n",
            "F1 Score 0.9434931164133868\n",
            "2\n",
            "Recall 0.9480260473242869 \n",
            "Precision 0.9398853548188584\n",
            "F1 Score 0.9439381496985599\n",
            "3\n",
            "Recall 0.9478338718285692 \n",
            "Precision 0.9401080354957508\n",
            "F1 Score 0.9439551458274988\n",
            "4\n",
            "Recall 0.948204400039091 \n",
            "Precision 0.9400872018466273\n",
            "F1 Score 0.9441283542448943\n",
            "5\n",
            "Recall 0.9476872721008355 \n",
            "Precision 0.9408635866095046\n",
            "F1 Score 0.9442631017327844\n",
            "6\n",
            "Recall 0.9483605568418815 \n",
            "Precision 0.9403912766054419\n",
            "F1 Score 0.944359104184724\n",
            "7\n",
            "Recall 0.9481129640146626 \n",
            "Precision 0.9400563091886358\n",
            "F1 Score 0.9440674480773185\n",
            "8\n",
            "Recall 0.948124134204733 \n",
            "Precision 0.9403568781711419\n",
            "F1 Score 0.9442245329623937\n",
            "9\n",
            "Recall 0.9479432567157501 \n",
            "Precision 0.9400060295447694\n",
            "F1 Score 0.9439579584725674\n",
            "10\n",
            "Recall 0.9482990152193375 \n",
            "Precision 0.9397830871689292\n",
            "F1 Score 0.9440218462478898\n",
            "11\n",
            "Recall 0.9477059155059178 \n",
            "Precision 0.9395736286041725\n",
            "F1 Score 0.943622251044324\n",
            "12\n",
            "Recall 0.9479445446296275 \n",
            "Precision 0.9401853507937502\n",
            "F1 Score 0.9440490046642511\n",
            "13\n",
            "Recall 0.9482260168863191 \n",
            "Precision 0.9401852115685995\n",
            "F1 Score 0.9441884954587337\n",
            "14\n",
            "Recall 0.9473660016548681 \n",
            "Precision 0.9398593106907913\n",
            "F1 Score 0.9435977267394278\n",
            "15\n",
            "Recall 0.9471096406580277 \n",
            "Precision 0.9403471952916486\n",
            "F1 Score 0.9437163036137406\n",
            "16\n",
            "Recall 0.9484331318419527 \n",
            "Precision 0.939854713836317\n",
            "F1 Score 0.9441244371299915\n",
            "17\n",
            "Recall 0.9478087123278233 \n",
            "Precision 0.9387162077632581\n",
            "F1 Score 0.9432405484242373\n",
            "18\n",
            "Recall 0.9481237217639084 \n",
            "Precision 0.9404142568164335\n",
            "F1 Score 0.9442532533477512\n",
            "19\n",
            "Recall 0.9478465197581454 \n",
            "Precision 0.941008119349314\n",
            "F1 Score 0.9444149406974686\n",
            "20\n",
            "Recall 0.948370579151909 \n",
            "Precision 0.9399746243435614\n",
            "F1 Score 0.9441539367131289\n"
          ]
        },
        {
          "output_type": "execute_result",
          "data": {
            "text/plain": [
              "0.9439884827847538"
            ]
          },
          "metadata": {},
          "execution_count": 20
        }
      ],
      "source": [
        "sum = 0\n",
        "for count in range(1,21):\n",
        "    print(count)\n",
        "    sum += testing_p(new_list)\n",
        "sum /= 20\n",
        "sum"
      ]
    },
    {
      "cell_type": "markdown",
      "metadata": {
        "id": "FX136aiF9XTM"
      },
      "source": [
        "첫 선형 회귀 분석 모델보다 성능은 향상하였으나 역시 요소를 전부 사용하였을 때 보다는 성능이 낮다.\n",
        "\n",
        "사실 긍정적인것으로만 학습을 하는것과 부정적인것을 제외한 체 학습하는것 중 후자가 칼럼의 갯수가 더 많은것을 보아 칼럼이 많을 수록 성능이 증가하는것 같다.\n",
        "\n",
        "그럼 악영향을 크게 미치는 요소 2-3개만 제거하였을 때는 어떻게 될까 실험해본다."
      ]
    },
    {
      "cell_type": "code",
      "execution_count": 21,
      "metadata": {
        "id": "HbxlkoKH9XTM"
      },
      "outputs": [],
      "source": [
        "new_list = []\n",
        "for i in change_rate:\n",
        "    if change_rate[i]-change_rate['비교값'] < 0.0011 and i != 'Fwd Packets/s' and i != '비교값' and i != ' Label':\n",
        "        new_list.append(i)"
      ]
    },
    {
      "cell_type": "code",
      "execution_count": 22,
      "metadata": {
        "colab": {
          "base_uri": "https://localhost:8080/"
        },
        "id": "VmnGGKH29XTM",
        "outputId": "6193d3e5-dd44-41d6-bf63-4734e95aff26"
      },
      "outputs": [
        {
          "output_type": "execute_result",
          "data": {
            "text/plain": [
              "72"
            ]
          },
          "metadata": {},
          "execution_count": 22
        }
      ],
      "source": [
        "len(new_list)"
      ]
    },
    {
      "cell_type": "code",
      "execution_count": 23,
      "metadata": {
        "colab": {
          "base_uri": "https://localhost:8080/"
        },
        "id": "NlrjectO9XTM",
        "outputId": "2f115312-e7ee-4352-c8ca-24f67051753b"
      },
      "outputs": [
        {
          "output_type": "stream",
          "name": "stdout",
          "text": [
            "1\n",
            "Recall 0.9531493894040951 \n",
            "Precision 0.9550402217226053\n",
            "F1 Score 0.9540938687468944\n",
            "2\n",
            "Recall 0.9524069174123414 \n",
            "Precision 0.9548237487484608\n",
            "F1 Score 0.9536138017832667\n",
            "3\n",
            "Recall 0.9533243671977377 \n",
            "Precision 0.9533901227755552\n",
            "F1 Score 0.9533572438528122\n",
            "4\n",
            "Recall 0.9530042154351547 \n",
            "Precision 0.9539739572853488\n",
            "F1 Score 0.9534888397923389\n",
            "5\n",
            "Recall 0.9527089756667851 \n",
            "Precision 0.9543168771526981\n",
            "F1 Score 0.9535122485617762\n",
            "6\n",
            "Recall 0.9529348851116682 \n",
            "Precision 0.9540155775972736\n",
            "F1 Score 0.9534749251335514\n",
            "7\n",
            "Recall 0.9537580537913007 \n",
            "Precision 0.9546719453768253\n",
            "F1 Score 0.9542147807660214\n",
            "8\n",
            "Recall 0.9528745979232485 \n",
            "Precision 0.9553834744666541\n",
            "F1 Score 0.9541273869260183\n",
            "9\n",
            "Recall 0.9533754862696946 \n",
            "Precision 0.9548108306900198\n",
            "F1 Score 0.9540926186443112\n",
            "10\n",
            "Recall 0.9523673031833477 \n",
            "Precision 0.9542600793828586\n",
            "F1 Score 0.9533127517702822\n",
            "11\n",
            "Recall 0.9534253807572679 \n",
            "Precision 0.954482520897366\n",
            "F1 Score 0.9539536579554034\n",
            "12\n",
            "Recall 0.9536918566289324 \n",
            "Precision 0.954617505168849\n",
            "F1 Score 0.95415445640038\n",
            "13\n",
            "Recall 0.9524862322627327 \n",
            "Precision 0.9540970404670828\n",
            "F1 Score 0.9532909559060186\n",
            "14\n",
            "Recall 0.9527673371015407 \n",
            "Precision 0.9546957386739346\n",
            "F1 Score 0.9537305631027807\n",
            "15\n",
            "Recall 0.9537283047513888 \n",
            "Precision 0.9536953971430543\n",
            "F1 Score 0.9537118506633542\n",
            "16\n",
            "Recall 0.9528070014241742 \n",
            "Precision 0.9536997120242796\n",
            "F1 Score 0.9532531477209724\n",
            "17\n",
            "Recall 0.9533898305084746 \n",
            "Precision 0.9548242239092235\n",
            "F1 Score 0.9541064880962628\n",
            "18\n",
            "Recall 0.9529644970753198 \n",
            "Precision 0.9552849964106246\n",
            "F1 Score 0.9541233358380607\n",
            "19\n",
            "Recall 0.9524534152574005 \n",
            "Precision 0.9545747533926495\n",
            "F1 Score 0.9535129044590015\n",
            "20\n",
            "Recall 0.9532501867923444 \n",
            "Precision 0.9543032716141727\n",
            "F1 Score 0.9537764385200179\n"
          ]
        },
        {
          "output_type": "execute_result",
          "data": {
            "text/plain": [
              "0.953745113231976"
            ]
          },
          "metadata": {},
          "execution_count": 23
        }
      ],
      "source": [
        "sum = 0\n",
        "for count in range(1,21):\n",
        "    print(count)\n",
        "    sum += testing_p(new_list)\n",
        "sum /= 20\n",
        "sum"
      ]
    },
    {
      "cell_type": "markdown",
      "metadata": {
        "id": "tftWwuVT9XTM"
      },
      "source": [
        "그럼에도 0.5% 성능 하향이 있었다."
      ]
    },
    {
      "cell_type": "markdown",
      "metadata": {
        "id": "R1UICCMg9XTM"
      },
      "source": [
        "그럼 이 모델에 배깅을 적용하면 성능이 향상할까?"
      ]
    },
    {
      "cell_type": "markdown",
      "metadata": {
        "id": "UmSXn9iw9XTN"
      },
      "source": [
        "## 배깅 적용 "
      ]
    },
    {
      "cell_type": "code",
      "execution_count": 24,
      "metadata": {
        "id": "5cEU3mYB9XTN"
      },
      "outputs": [],
      "source": [
        "data_b = df.copy()\n",
        "data_b.dropna(1,inplace=True)\n",
        "data_b=data_b.drop(columns=[' Flow Packets/s'], axis=1, inplace=False)\n",
        "x = data_b[data_b.columns[0:-1]]\n",
        "y = data_b[[' Label']]\n",
        "x_train,x_test,y_train,y_test = train_test_split(x,y,train_size=0.8,test_size=0.2)\n",
        "attack = ['DDoS', 'PortScan', 'Bot', 'Infiltration', 'Web Attack � Brute Force', 'Web Attack � XSS', 'Web Attack � Sql Injection']\n",
        "normal = 'BENIGN'\n",
        "y_train=y_train.replace(attack,-1)\n",
        "y_train=y_train.replace(normal,1)\n",
        "y_test=y_test.replace(attack,-1)\n",
        "y_test=y_test.replace(normal,1)"
      ]
    },
    {
      "cell_type": "code",
      "execution_count": 25,
      "metadata": {
        "colab": {
          "base_uri": "https://localhost:8080/"
        },
        "id": "H1fTSL4V9XTN",
        "outputId": "3119ff5a-430e-4c30-ecd4-ddb78c549910"
      },
      "outputs": [
        {
          "output_type": "stream",
          "name": "stderr",
          "text": [
            "[Parallel(n_jobs=1)]: Using backend SequentialBackend with 1 concurrent workers.\n",
            "[Parallel(n_jobs=1)]: Done   1 out of   1 | elapsed:  1.8min finished\n",
            "[Parallel(n_jobs=1)]: Using backend SequentialBackend with 1 concurrent workers.\n",
            "[Parallel(n_jobs=1)]: Done   1 out of   1 | elapsed:    0.9s finished\n"
          ]
        }
      ],
      "source": [
        "from sklearn.ensemble import BaggingRegressor\n",
        "\n",
        "bag_clf = BaggingRegressor(base_estimator = LinearRegression(), \n",
        "                           n_estimators=15, bootstrap=True,\n",
        "                           verbose=1, random_state=42)\n",
        "bagging = bag_clf.fit(x_train, y_train)\n",
        "y_pred = bagging.predict(x_test)"
      ]
    },
    {
      "cell_type": "code",
      "execution_count": 26,
      "metadata": {
        "colab": {
          "base_uri": "https://localhost:8080/"
        },
        "id": "s_AVoJzP9XTN",
        "outputId": "c777127a-c493-4eba-c3b8-17ea52ec0097"
      },
      "outputs": [
        {
          "output_type": "stream",
          "name": "stdout",
          "text": [
            "Recall 0.9510380980847493 \n",
            "Precision 0.9583536062649151\n",
            "F1 Score 0.9546818381148015\n"
          ]
        }
      ],
      "source": [
        "for i in range(0,y_pred.size):\n",
        "    if(y_pred[i]>0):\n",
        "        y_pred[i]=1\n",
        "    else:\n",
        "        y_pred[i]=-1\n",
        "cf_matrix = confusion_matrix(y_test, y_pred)\n",
        "tn, fp, fn, tp = cf_matrix.ravel()\n",
        "recall = tp/(tp+fn) #공격 적발률\n",
        "precision = tp/(tp+fp) #정상 이용자 판단 확률\n",
        "print(\"Recall\", recall, \"\\nPrecision\", precision)\n",
        "f = 2 * (precision*recall)/(precision+recall)\n",
        "print(\"F1 Score\", f)"
      ]
    },
    {
      "cell_type": "markdown",
      "source": [
        "배깅 결과 약간의 성능 향상이 있다."
      ],
      "metadata": {
        "id": "Qo0Whtip-NUd"
      }
    },
    {
      "cell_type": "code",
      "source": [
        "data_b = df.copy()\n",
        "data_b.dropna(1,inplace=True)\n",
        "data_b=data_b.drop(columns=[' Flow Packets/s'], axis=1, inplace=False)\n",
        "x = data_b[data_b.columns[0:-1]]\n",
        "y = data_b[[' Label']]\n",
        "x_train,x_test,y_train,y_test = train_test_split(x,y,train_size=0.8,test_size=0.2)\n",
        "attack = ['DDoS', 'PortScan', 'Bot', 'Infiltration', 'Web Attack � Brute Force', 'Web Attack � XSS', 'Web Attack � Sql Injection']\n",
        "normal = 'BENIGN'\n",
        "y_train=y_train.replace(attack,-1)\n",
        "y_train=y_train.replace(normal,1)\n",
        "y_test=y_test.replace(attack,-1)\n",
        "y_test=y_test.replace(normal,1)\n",
        "bag_clf = BaggingRegressor(base_estimator = LinearRegression(), \n",
        "                           n_estimators=150, bootstrap=True,\n",
        "                           verbose=1, random_state=42)\n",
        "bagging = bag_clf.fit(x_train, y_train)\n",
        "y_pred = bagging.predict(x_test)"
      ],
      "metadata": {
        "colab": {
          "base_uri": "https://localhost:8080/"
        },
        "id": "JHuezysh-asY",
        "outputId": "8d07c49d-1202-49ef-f3b2-15fa6142f1dd"
      },
      "execution_count": 27,
      "outputs": [
        {
          "output_type": "stream",
          "name": "stderr",
          "text": [
            "[Parallel(n_jobs=1)]: Using backend SequentialBackend with 1 concurrent workers.\n",
            "[Parallel(n_jobs=1)]: Done   1 out of   1 | elapsed: 19.2min finished\n",
            "[Parallel(n_jobs=1)]: Using backend SequentialBackend with 1 concurrent workers.\n",
            "[Parallel(n_jobs=1)]: Done   1 out of   1 | elapsed:   11.3s finished\n"
          ]
        }
      ]
    },
    {
      "cell_type": "code",
      "source": [
        "for i in range(0,y_pred.size):\n",
        "    if(y_pred[i]>0):\n",
        "        y_pred[i]=1\n",
        "    else:\n",
        "        y_pred[i]=-1\n",
        "cf_matrix = confusion_matrix(y_test, y_pred)\n",
        "tn, fp, fn, tp = cf_matrix.ravel()\n",
        "recall = tp/(tp+fn) #공격 적발률\n",
        "precision = tp/(tp+fp) #정상 이용자 판단 확률\n",
        "print(\"Recall\", recall, \"\\nPrecision\", precision)\n",
        "f = 2 * (precision*recall)/(precision+recall)\n",
        "print(\"F1 Score\", f)"
      ],
      "metadata": {
        "colab": {
          "base_uri": "https://localhost:8080/"
        },
        "id": "ItSD_J79R6uU",
        "outputId": "0e7be704-2572-4684-8dad-8d0c2c489290"
      },
      "execution_count": 28,
      "outputs": [
        {
          "output_type": "stream",
          "name": "stdout",
          "text": [
            "Recall 0.9522899010082914 \n",
            "Precision 0.9582875897056614\n",
            "F1 Score 0.9552793313787721\n"
          ]
        }
      ]
    },
    {
      "cell_type": "markdown",
      "source": [
        "샘플 갯수 150개로 실험 결과 f1이 0.8%정도 상승했다."
      ],
      "metadata": {
        "id": "onXMLNOiSBzC"
      }
    }
  ],
  "metadata": {
    "kernelspec": {
      "display_name": "Python 3",
      "language": "python",
      "name": "python3"
    },
    "language_info": {
      "codemirror_mode": {
        "name": "ipython",
        "version": 3
      },
      "file_extension": ".py",
      "mimetype": "text/x-python",
      "name": "python",
      "nbconvert_exporter": "python",
      "pygments_lexer": "ipython3",
      "version": "3.8.5"
    },
    "papermill": {
      "duration": 77.485073,
      "end_time": "2022-01-14T07:44:13.876369",
      "environment_variables": {},
      "exception": null,
      "input_path": "__notebook__.ipynb",
      "output_path": "__notebook__.ipynb",
      "parameters": {},
      "start_time": "2022-01-14T07:42:56.391296",
      "version": "2.1.0"
    },
    "colab": {
      "provenance": []
    }
  },
  "nbformat": 4,
  "nbformat_minor": 0
}